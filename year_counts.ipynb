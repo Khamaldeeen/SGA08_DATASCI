{
 "cells": [
  {
   "cell_type": "code",
   "execution_count": 12,
   "metadata": {},
   "outputs": [],
   "source": [
    "import numpy as np \n",
    "import pandas as pd \n",
    "import random"
   ]
  },
  {
   "cell_type": "code",
   "execution_count": 9,
   "metadata": {},
   "outputs": [],
   "source": [
    "dic = {\n",
    "    'years': np.arange(1900, 2020, 1)\n",
    "}"
   ]
  },
  {
   "cell_type": "code",
   "execution_count": 26,
   "metadata": {},
   "outputs": [],
   "source": [
    "def random_count(x):\n",
    "    x = True\n",
    "    if x:\n",
    "        return random.randint(1,40)\n",
    "    else:\n",
    "        return np.nan"
   ]
  },
  {
   "cell_type": "code",
   "execution_count": 10,
   "metadata": {},
   "outputs": [],
   "source": [
    "yeardf = pd.DataFrame(dic)"
   ]
  },
  {
   "cell_type": "code",
   "execution_count": 27,
   "metadata": {},
   "outputs": [],
   "source": [
    "yeardf['Counts'] = yeardf['years'].apply(random_count)"
   ]
  },
  {
   "cell_type": "code",
   "execution_count": 28,
   "metadata": {},
   "outputs": [
    {
     "output_type": "execute_result",
     "data": {
      "text/plain": "     years  Counts\n0     1900      31\n1     1901      15\n2     1902      37\n3     1903      14\n4     1904      38\n..     ...     ...\n115   2015      29\n116   2016       6\n117   2017      34\n118   2018      30\n119   2019      33\n\n[120 rows x 2 columns]",
      "text/html": "<div>\n<style scoped>\n    .dataframe tbody tr th:only-of-type {\n        vertical-align: middle;\n    }\n\n    .dataframe tbody tr th {\n        vertical-align: top;\n    }\n\n    .dataframe thead th {\n        text-align: right;\n    }\n</style>\n<table border=\"1\" class=\"dataframe\">\n  <thead>\n    <tr style=\"text-align: right;\">\n      <th></th>\n      <th>years</th>\n      <th>Counts</th>\n    </tr>\n  </thead>\n  <tbody>\n    <tr>\n      <th>0</th>\n      <td>1900</td>\n      <td>31</td>\n    </tr>\n    <tr>\n      <th>1</th>\n      <td>1901</td>\n      <td>15</td>\n    </tr>\n    <tr>\n      <th>2</th>\n      <td>1902</td>\n      <td>37</td>\n    </tr>\n    <tr>\n      <th>3</th>\n      <td>1903</td>\n      <td>14</td>\n    </tr>\n    <tr>\n      <th>4</th>\n      <td>1904</td>\n      <td>38</td>\n    </tr>\n    <tr>\n      <th>...</th>\n      <td>...</td>\n      <td>...</td>\n    </tr>\n    <tr>\n      <th>115</th>\n      <td>2015</td>\n      <td>29</td>\n    </tr>\n    <tr>\n      <th>116</th>\n      <td>2016</td>\n      <td>6</td>\n    </tr>\n    <tr>\n      <th>117</th>\n      <td>2017</td>\n      <td>34</td>\n    </tr>\n    <tr>\n      <th>118</th>\n      <td>2018</td>\n      <td>30</td>\n    </tr>\n    <tr>\n      <th>119</th>\n      <td>2019</td>\n      <td>33</td>\n    </tr>\n  </tbody>\n</table>\n<p>120 rows × 2 columns</p>\n</div>"
     },
     "metadata": {},
     "execution_count": 28
    }
   ],
   "source": [
    "yeardf"
   ]
  },
  {
   "cell_type": "code",
   "execution_count": null,
   "metadata": {},
   "outputs": [],
   "source": []
  }
 ],
 "metadata": {
  "language_info": {
   "codemirror_mode": {
    "name": "ipython",
    "version": 3
   },
   "file_extension": ".py",
   "mimetype": "text/x-python",
   "name": "python",
   "nbconvert_exporter": "python",
   "pygments_lexer": "ipython3",
   "version": "3.8.1-final"
  },
  "orig_nbformat": 2,
  "kernelspec": {
   "name": "python38164bitddb66de964dc40ce8827062f9ba68cf6",
   "display_name": "Python 3.8.1 64-bit"
  }
 },
 "nbformat": 4,
 "nbformat_minor": 2
}