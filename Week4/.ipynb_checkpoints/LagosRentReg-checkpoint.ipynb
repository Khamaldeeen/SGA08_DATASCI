{
 "cells": [
  {
   "cell_type": "code",
   "execution_count": 1,
   "metadata": {},
   "outputs": [],
   "source": [
    "import numpy as np \n",
    "import pandas as pd "
   ]
  },
  {
   "cell_type": "code",
   "execution_count": 2,
   "metadata": {},
   "outputs": [
    {
     "data": {
      "text/html": [
       "<div>\n",
       "<style scoped>\n",
       "    .dataframe tbody tr th:only-of-type {\n",
       "        vertical-align: middle;\n",
       "    }\n",
       "\n",
       "    .dataframe tbody tr th {\n",
       "        vertical-align: top;\n",
       "    }\n",
       "\n",
       "    .dataframe thead th {\n",
       "        text-align: right;\n",
       "    }\n",
       "</style>\n",
       "<table border=\"1\" class=\"dataframe\">\n",
       "  <thead>\n",
       "    <tr style=\"text-align: right;\">\n",
       "      <th></th>\n",
       "      <th>Location</th>\n",
       "      <th>Type</th>\n",
       "      <th>Rooms</th>\n",
       "      <th>Price</th>\n",
       "    </tr>\n",
       "  </thead>\n",
       "  <tbody>\n",
       "    <tr>\n",
       "      <td>0</td>\n",
       "      <td>Lekki</td>\n",
       "      <td>semi-detached duplex</td>\n",
       "      <td>6</td>\n",
       "      <td>5000000</td>\n",
       "    </tr>\n",
       "    <tr>\n",
       "      <td>1</td>\n",
       "      <td>Lekki</td>\n",
       "      <td>terraced duplex</td>\n",
       "      <td>3</td>\n",
       "      <td>2500000</td>\n",
       "    </tr>\n",
       "    <tr>\n",
       "      <td>2</td>\n",
       "      <td>Gbagada</td>\n",
       "      <td>terraced duplex</td>\n",
       "      <td>4</td>\n",
       "      <td>4000000</td>\n",
       "    </tr>\n",
       "    <tr>\n",
       "      <td>3</td>\n",
       "      <td>Lekki</td>\n",
       "      <td>detached duplex</td>\n",
       "      <td>4</td>\n",
       "      <td>4600000</td>\n",
       "    </tr>\n",
       "    <tr>\n",
       "      <td>4</td>\n",
       "      <td>Lekki</td>\n",
       "      <td>detached duplex</td>\n",
       "      <td>4</td>\n",
       "      <td>3000000</td>\n",
       "    </tr>\n",
       "    <tr>\n",
       "      <td>...</td>\n",
       "      <td>...</td>\n",
       "      <td>...</td>\n",
       "      <td>...</td>\n",
       "      <td>...</td>\n",
       "    </tr>\n",
       "    <tr>\n",
       "      <td>2021</td>\n",
       "      <td>Lekki</td>\n",
       "      <td>flat apartment</td>\n",
       "      <td>4</td>\n",
       "      <td>3200000</td>\n",
       "    </tr>\n",
       "    <tr>\n",
       "      <td>2022</td>\n",
       "      <td>Lekki</td>\n",
       "      <td>terraced duplex</td>\n",
       "      <td>4</td>\n",
       "      <td>3000000</td>\n",
       "    </tr>\n",
       "    <tr>\n",
       "      <td>2023</td>\n",
       "      <td>VI</td>\n",
       "      <td>semi-detached duplex</td>\n",
       "      <td>4</td>\n",
       "      <td>4500000</td>\n",
       "    </tr>\n",
       "    <tr>\n",
       "      <td>2024</td>\n",
       "      <td>Lekki</td>\n",
       "      <td>terraced duplex</td>\n",
       "      <td>4</td>\n",
       "      <td>3000000</td>\n",
       "    </tr>\n",
       "    <tr>\n",
       "      <td>2025</td>\n",
       "      <td>Lekki</td>\n",
       "      <td>semi-detached duplex</td>\n",
       "      <td>4</td>\n",
       "      <td>4000000</td>\n",
       "    </tr>\n",
       "  </tbody>\n",
       "</table>\n",
       "<p>2026 rows × 4 columns</p>\n",
       "</div>"
      ],
      "text/plain": [
       "     Location                  Type  Rooms    Price\n",
       "0       Lekki  semi-detached duplex      6  5000000\n",
       "1       Lekki       terraced duplex      3  2500000\n",
       "2     Gbagada       terraced duplex      4  4000000\n",
       "3       Lekki       detached duplex      4  4600000\n",
       "4       Lekki       detached duplex      4  3000000\n",
       "...       ...                   ...    ...      ...\n",
       "2021    Lekki        flat apartment      4  3200000\n",
       "2022    Lekki       terraced duplex      4  3000000\n",
       "2023       VI  semi-detached duplex      4  4500000\n",
       "2024    Lekki       terraced duplex      4  3000000\n",
       "2025    Lekki  semi-detached duplex      4  4000000\n",
       "\n",
       "[2026 rows x 4 columns]"
      ]
     },
     "execution_count": 2,
     "metadata": {},
     "output_type": "execute_result"
    }
   ],
   "source": [
    "data = pd.read_csv('Lagos Rent Cleaned.csv')\n",
    "data"
   ]
  },
  {
   "cell_type": "code",
   "execution_count": 3,
   "metadata": {},
   "outputs": [],
   "source": [
    "X = data.iloc[:, : -1].values \n",
    "y = data.iloc[:, -1].values "
   ]
  },
  {
   "cell_type": "code",
   "execution_count": 4,
   "metadata": {},
   "outputs": [
    {
     "data": {
      "text/plain": [
       "array([['Lekki', 'semi-detached duplex', 6],\n",
       "       ['Lekki', 'terraced duplex', 3],\n",
       "       ['Gbagada', 'terraced duplex', 4],\n",
       "       ...,\n",
       "       ['VI', 'semi-detached duplex', 4],\n",
       "       ['Lekki', 'terraced duplex', 4],\n",
       "       ['Lekki', 'semi-detached duplex', 4]], dtype=object)"
      ]
     },
     "execution_count": 4,
     "metadata": {},
     "output_type": "execute_result"
    }
   ],
   "source": [
    "X"
   ]
  },
  {
   "cell_type": "code",
   "execution_count": 5,
   "metadata": {},
   "outputs": [
    {
     "data": {
      "text/plain": [
       "array([5000000, 2500000, 4000000, ..., 4500000, 3000000, 4000000],\n",
       "      dtype=int64)"
      ]
     },
     "execution_count": 5,
     "metadata": {},
     "output_type": "execute_result"
    }
   ],
   "source": [
    "y"
   ]
  },
  {
   "cell_type": "code",
   "execution_count": null,
   "metadata": {},
   "outputs": [],
   "source": [
    "from sklearn.compose import ColumnTransformer\n",
    "from sklearn.preprocessing import OneHotEncoder \n",
    "ct = ColumnTransformer(transformer =([OneHoteEncoder]))\n"
   ]
  }
 ],
 "metadata": {
  "kernelspec": {
   "display_name": "Python 3",
   "language": "python",
   "name": "python3"
  },
  "language_info": {
   "codemirror_mode": {
    "name": "ipython",
    "version": 3
   },
   "file_extension": ".py",
   "mimetype": "text/x-python",
   "name": "python",
   "nbconvert_exporter": "python",
   "pygments_lexer": "ipython3",
   "version": "3.7.4"
  }
 },
 "nbformat": 4,
 "nbformat_minor": 4
}
