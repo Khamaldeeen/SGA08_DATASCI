{
 "cells": [
  {
   "cell_type": "code",
   "execution_count": 1,
   "metadata": {},
   "outputs": [],
   "source": [
    "import numpy as np \n",
    "import pandas as pd \n",
    "import matplotlib.pyplot as plt\n",
    "import seaborn as sns "
   ]
  },
  {
   "cell_type": "code",
   "execution_count": 2,
   "metadata": {},
   "outputs": [
    {
     "output_type": "execute_result",
     "data": {
      "text/plain": "      Unnamed: 0                  Type Rooms Location    Price\n0              0  semi-detached duplex     6    Lekki  5000000\n1              1       terraced duplex     3    Lekki  2500000\n2              2       terraced duplex     4  Gbagada  4000000\n3              3       detached duplex     4    Lekki  4600000\n4              4       detached duplex     4    Lekki  3000000\n...          ...                   ...   ...      ...      ...\n2053        2053             house for     4    Lekki  3200000\n2054        2054       terraced duplex     4    Lekki  3000000\n2055        2055  semi-detached duplex     4     (VI)  4500000\n2056        2056       terraced duplex     4    Lekki  3000000\n2057        2057  semi-detached duplex     4    Lekki  4000000\n\n[2058 rows x 5 columns]",
      "text/html": "<div>\n<style scoped>\n    .dataframe tbody tr th:only-of-type {\n        vertical-align: middle;\n    }\n\n    .dataframe tbody tr th {\n        vertical-align: top;\n    }\n\n    .dataframe thead th {\n        text-align: right;\n    }\n</style>\n<table border=\"1\" class=\"dataframe\">\n  <thead>\n    <tr style=\"text-align: right;\">\n      <th></th>\n      <th>Unnamed: 0</th>\n      <th>Type</th>\n      <th>Rooms</th>\n      <th>Location</th>\n      <th>Price</th>\n    </tr>\n  </thead>\n  <tbody>\n    <tr>\n      <th>0</th>\n      <td>0</td>\n      <td>semi-detached duplex</td>\n      <td>6</td>\n      <td>Lekki</td>\n      <td>5000000</td>\n    </tr>\n    <tr>\n      <th>1</th>\n      <td>1</td>\n      <td>terraced duplex</td>\n      <td>3</td>\n      <td>Lekki</td>\n      <td>2500000</td>\n    </tr>\n    <tr>\n      <th>2</th>\n      <td>2</td>\n      <td>terraced duplex</td>\n      <td>4</td>\n      <td>Gbagada</td>\n      <td>4000000</td>\n    </tr>\n    <tr>\n      <th>3</th>\n      <td>3</td>\n      <td>detached duplex</td>\n      <td>4</td>\n      <td>Lekki</td>\n      <td>4600000</td>\n    </tr>\n    <tr>\n      <th>4</th>\n      <td>4</td>\n      <td>detached duplex</td>\n      <td>4</td>\n      <td>Lekki</td>\n      <td>3000000</td>\n    </tr>\n    <tr>\n      <th>...</th>\n      <td>...</td>\n      <td>...</td>\n      <td>...</td>\n      <td>...</td>\n      <td>...</td>\n    </tr>\n    <tr>\n      <th>2053</th>\n      <td>2053</td>\n      <td>house for</td>\n      <td>4</td>\n      <td>Lekki</td>\n      <td>3200000</td>\n    </tr>\n    <tr>\n      <th>2054</th>\n      <td>2054</td>\n      <td>terraced duplex</td>\n      <td>4</td>\n      <td>Lekki</td>\n      <td>3000000</td>\n    </tr>\n    <tr>\n      <th>2055</th>\n      <td>2055</td>\n      <td>semi-detached duplex</td>\n      <td>4</td>\n      <td>(VI)</td>\n      <td>4500000</td>\n    </tr>\n    <tr>\n      <th>2056</th>\n      <td>2056</td>\n      <td>terraced duplex</td>\n      <td>4</td>\n      <td>Lekki</td>\n      <td>3000000</td>\n    </tr>\n    <tr>\n      <th>2057</th>\n      <td>2057</td>\n      <td>semi-detached duplex</td>\n      <td>4</td>\n      <td>Lekki</td>\n      <td>4000000</td>\n    </tr>\n  </tbody>\n</table>\n<p>2058 rows × 5 columns</p>\n</div>"
     },
     "metadata": {},
     "execution_count": 2
    }
   ],
   "source": [
    "data = pd.read_csv('Lagos Rent Amount.csv')\n",
    "data"
   ]
  },
  {
   "cell_type": "code",
   "execution_count": 3,
   "metadata": {},
   "outputs": [],
   "source": [
    "data.drop(columns='Unnamed: 0', inplace=True)"
   ]
  },
  {
   "cell_type": "code",
   "execution_count": 4,
   "metadata": {},
   "outputs": [
    {
     "output_type": "execute_result",
     "data": {
      "text/plain": "           Type Rooms Location    Price\n13    house for     3    Lekki  2200000\n24    house for     4     (VI)  5000000\n25    house for     3    Lekki  2800000\n42    house for     4    Lekki  4000000\n52    house for     3    Lekki  4000000\n...         ...   ...      ...      ...\n2017  house for     3    Lekki  1000000\n2020  house for     2     Ajah   500000\n2021  house for     4    Lekki  4000000\n2036  house for     4     Ajah  1700000\n2053  house for     4    Lekki  3200000\n\n[224 rows x 4 columns]",
      "text/html": "<div>\n<style scoped>\n    .dataframe tbody tr th:only-of-type {\n        vertical-align: middle;\n    }\n\n    .dataframe tbody tr th {\n        vertical-align: top;\n    }\n\n    .dataframe thead th {\n        text-align: right;\n    }\n</style>\n<table border=\"1\" class=\"dataframe\">\n  <thead>\n    <tr style=\"text-align: right;\">\n      <th></th>\n      <th>Type</th>\n      <th>Rooms</th>\n      <th>Location</th>\n      <th>Price</th>\n    </tr>\n  </thead>\n  <tbody>\n    <tr>\n      <th>13</th>\n      <td>house for</td>\n      <td>3</td>\n      <td>Lekki</td>\n      <td>2200000</td>\n    </tr>\n    <tr>\n      <th>24</th>\n      <td>house for</td>\n      <td>4</td>\n      <td>(VI)</td>\n      <td>5000000</td>\n    </tr>\n    <tr>\n      <th>25</th>\n      <td>house for</td>\n      <td>3</td>\n      <td>Lekki</td>\n      <td>2800000</td>\n    </tr>\n    <tr>\n      <th>42</th>\n      <td>house for</td>\n      <td>4</td>\n      <td>Lekki</td>\n      <td>4000000</td>\n    </tr>\n    <tr>\n      <th>52</th>\n      <td>house for</td>\n      <td>3</td>\n      <td>Lekki</td>\n      <td>4000000</td>\n    </tr>\n    <tr>\n      <th>...</th>\n      <td>...</td>\n      <td>...</td>\n      <td>...</td>\n      <td>...</td>\n    </tr>\n    <tr>\n      <th>2017</th>\n      <td>house for</td>\n      <td>3</td>\n      <td>Lekki</td>\n      <td>1000000</td>\n    </tr>\n    <tr>\n      <th>2020</th>\n      <td>house for</td>\n      <td>2</td>\n      <td>Ajah</td>\n      <td>500000</td>\n    </tr>\n    <tr>\n      <th>2021</th>\n      <td>house for</td>\n      <td>4</td>\n      <td>Lekki</td>\n      <td>4000000</td>\n    </tr>\n    <tr>\n      <th>2036</th>\n      <td>house for</td>\n      <td>4</td>\n      <td>Ajah</td>\n      <td>1700000</td>\n    </tr>\n    <tr>\n      <th>2053</th>\n      <td>house for</td>\n      <td>4</td>\n      <td>Lekki</td>\n      <td>3200000</td>\n    </tr>\n  </tbody>\n</table>\n<p>224 rows × 4 columns</p>\n</div>"
     },
     "metadata": {},
     "execution_count": 4
    }
   ],
   "source": [
    "data[data['Type']=='house for']"
   ]
  },
  {
   "cell_type": "code",
   "execution_count": 5,
   "metadata": {},
   "outputs": [],
   "source": [
    "def typecorr(x):\n",
    "    if x == 'house for':\n",
    "        return 'flat apartment'\n",
    "    else:\n",
    "        return x"
   ]
  },
  {
   "cell_type": "code",
   "execution_count": 6,
   "metadata": {},
   "outputs": [],
   "source": [
    "data['Type'] = data['Type'].apply(typecorr)"
   ]
  },
  {
   "cell_type": "code",
   "execution_count": 7,
   "metadata": {},
   "outputs": [],
   "source": [
    "def loc(x):\n",
    "    if x == '(VI)':\n",
    "        return 'VI'\n",
    "    else:\n",
    "        return x"
   ]
  },
  {
   "cell_type": "code",
   "execution_count": 8,
   "metadata": {},
   "outputs": [],
   "source": [
    "data['Location'] = data['Location'].apply(loc)"
   ]
  },
  {
   "cell_type": "code",
   "execution_count": 9,
   "metadata": {},
   "outputs": [
    {
     "output_type": "execute_result",
     "data": {
      "text/plain": "                      Type Rooms Location           Price\n687   semi-detached duplex     4    Ikoyi  Call for Price\n1106       terraced duplex     4    Ikoyi  Call for Price",
      "text/html": "<div>\n<style scoped>\n    .dataframe tbody tr th:only-of-type {\n        vertical-align: middle;\n    }\n\n    .dataframe tbody tr th {\n        vertical-align: top;\n    }\n\n    .dataframe thead th {\n        text-align: right;\n    }\n</style>\n<table border=\"1\" class=\"dataframe\">\n  <thead>\n    <tr style=\"text-align: right;\">\n      <th></th>\n      <th>Type</th>\n      <th>Rooms</th>\n      <th>Location</th>\n      <th>Price</th>\n    </tr>\n  </thead>\n  <tbody>\n    <tr>\n      <th>687</th>\n      <td>semi-detached duplex</td>\n      <td>4</td>\n      <td>Ikoyi</td>\n      <td>Call for Price</td>\n    </tr>\n    <tr>\n      <th>1106</th>\n      <td>terraced duplex</td>\n      <td>4</td>\n      <td>Ikoyi</td>\n      <td>Call for Price</td>\n    </tr>\n  </tbody>\n</table>\n</div>"
     },
     "metadata": {},
     "execution_count": 9
    }
   ],
   "source": [
    "data[data['Price'] == 'Call for Price']"
   ]
  },
  {
   "cell_type": "code",
   "execution_count": 10,
   "metadata": {},
   "outputs": [],
   "source": [
    "data.drop(index=[171, 425, 687, 1106, 1550, 1552, 1618, 1920, 2002], inplace=True)"
   ]
  },
  {
   "cell_type": "code",
   "execution_count": 11,
   "metadata": {},
   "outputs": [
    {
     "output_type": "execute_result",
     "data": {
      "text/plain": "array(['6', '3', '4', '5', '2', '7', 'Detached', 'Semi-detached', '1',\n       '9', '7000000', '8', '400000000', '16', 'Terraced', '45', '15',\n       'Block'], dtype=object)"
     },
     "metadata": {},
     "execution_count": 11
    }
   ],
   "source": [
    "data['Rooms'].unique()"
   ]
  },
  {
   "cell_type": "code",
   "execution_count": 12,
   "metadata": {},
   "outputs": [],
   "source": [
    "val = data[data['Rooms'].str.contains('Detached') | data['Rooms'].str.contains('Semi-detached') | data['Rooms'].str.contains('7000000') | data['Rooms'].str.contains('400000000') | data['Rooms'].str.contains('Terraced') | data['Rooms'].str.contains('Block')]"
   ]
  },
  {
   "cell_type": "code",
   "execution_count": 13,
   "metadata": {},
   "outputs": [],
   "source": [
    "data.drop(index=val.index, inplace=True)"
   ]
  },
  {
   "cell_type": "code",
   "execution_count": 15,
   "metadata": {
    "tags": []
   },
   "outputs": [],
   "source": [
    "for ran, i in enumerate(data.columns):\n",
    "    if ran % 2 == 1:\n",
    "        data[i] = data[i].astype('int64')"
   ]
  },
  {
   "cell_type": "code",
   "execution_count": 16,
   "metadata": {},
   "outputs": [],
   "source": [
    "cols = ['Location', 'Type', 'Rooms', 'Price']\n",
    "data = data[cols]"
   ]
  },
  {
   "cell_type": "code",
   "execution_count": 27,
   "metadata": {},
   "outputs": [],
   "source": [
    "X = data.iloc[:, 0:3].values \n",
    "y = data.iloc[:, -1].values"
   ]
  },
  {
   "cell_type": "code",
   "execution_count": 29,
   "metadata": {},
   "outputs": [],
   "source": [
    "from sklearn.compose import ColumnTransformer\n",
    "from sklearn.preprocessing import OneHotEncoder\n",
    "ct = ColumnTransformer(transformers=[('encoder', OneHotEncoder(sparse=False), [0, 1])], remainder='passthrough')\n",
    "X = np.array(ct.fit_transform(X))"
   ]
  },
  {
   "cell_type": "code",
   "execution_count": 34,
   "metadata": {},
   "outputs": [],
   "source": [
    "from sklearn.model_selection import train_test_split\n",
    "X_train, X_test, y_train, y_test = train_test_split(X, y, test_size= 0.3, random_state=0)"
   ]
  },
  {
   "cell_type": "code",
   "execution_count": 37,
   "metadata": {},
   "outputs": [],
   "source": [
    "from sklearn.linear_model import LinearRegression\n",
    "reg = LinearRegression()\n",
    "model = reg.fit(X_train, y_train)"
   ]
  },
  {
   "cell_type": "code",
   "execution_count": 38,
   "metadata": {},
   "outputs": [],
   "source": [
    "ypred = model.predict(X_test)"
   ]
  },
  {
   "cell_type": "code",
   "execution_count": 41,
   "metadata": {
    "tags": [
     "outputPrepend"
    ]
   },
   "outputs": [
    {
     "output_type": "stream",
     "name": "stdout",
     "text": "3000000] Predicted Price [3801088.0]\nReal price [3500000] Predicted Price [4485120.0]\nReal price [12000000] Predicted Price [12136448.0]\nReal price [4500000] Predicted Price [7223296.0]\nReal price [6000000] Predicted Price [8065024.0]\nReal price [4200000] Predicted Price [7223296.0]\nReal price [15000000] Predicted Price [7223296.0]\nReal price [1500000] Predicted Price [3637248.0]\nReal price [4000000] Predicted Price [7057408.0]\nReal price [4000000] Predicted Price [3801088.0]\nReal price [9000000] Predicted Price [12136448.0]\nReal price [1000000] Predicted Price [1.221332017679025e+19]\nReal price [4000000] Predicted Price [3866624.0]\nReal price [5000000] Predicted Price [3637248.0]\nReal price [3500000] Predicted Price [4485120.0]\nReal price [4000000] Predicted Price [7630848.0]\nReal price [3000000] Predicted Price [3801088.0]\nReal price [4500000] Predicted Price [4485120.0]\nReal price [3500000] Predicted Price [4485120.0]\nReal price [3500000] Predicted Price [4485120.0]\nReal price [4500000] Predicted Price [4833280.0]\nReal price [3000000] Predicted Price [2207744.0]\nReal price [10000000] Predicted Price [12304384.0]\nReal price [3500000] Predicted Price [4485120.0]\nReal price [10000000] Predicted Price [7057408.0]\nReal price [5000000] Predicted Price [3801088.0]\nReal price [2500000] Predicted Price [3637248.0]\nReal price [6000000] Predicted Price [3801088.0]\nReal price [3200000] Predicted Price [3801088.0]\nReal price [6000000] Predicted Price [7796736.0]\nReal price [10000000] Predicted Price [12304384.0]\nReal price [2500000] Predicted Price [3969024.0]\nReal price [5000000] Predicted Price [7223296.0]\nReal price [4500000] Predicted Price [7057408.0]\nReal price [15000000] Predicted Price [12365824.0]\nReal price [3200000] Predicted Price [3801088.0]\nReal price [4500000] Predicted Price [2426880.0]\nReal price [700000] Predicted Price [3368960.0]\nReal price [9000000] Predicted Price [12304384.0]\nReal price [3000000] Predicted Price [3637248.0]\nReal price [4000000] Predicted Price [3866624.0]\nReal price [5000000] Predicted Price [7901184.0]\nReal price [45000000] Predicted Price [12365824.0]\nReal price [40000000] Predicted Price [3801088.0]\nReal price [9000000] Predicted Price [12304384.0]\nReal price [3000000] Predicted Price [4485120.0]\nReal price [3000000] Predicted Price [3801088.0]\nReal price [17000000] Predicted Price [15556608.0]\nReal price [40000000] Predicted Price [13649920.0]\nReal price [13000000] Predicted Price [12304384.0]\nReal price [3600000] Predicted Price [7796736.0]\nReal price [6500000] Predicted Price [7389184.0]\nReal price [15000000] Predicted Price [12365824.0]\nReal price [2700000] Predicted Price [3801088.0]\nReal price [3500000] Predicted Price [11276288.0]\nReal price [3000000] Predicted Price [3866624.0]\nReal price [4500000] Predicted Price [3801088.0]\nReal price [6000000] Predicted Price [3801088.0]\nReal price [6000000] Predicted Price [4651008.0]\nReal price [3500000] Predicted Price [4485120.0]\nReal price [5500000] Predicted Price [15556608.0]\nReal price [15000000] Predicted Price [6832128.0]\nReal price [21000000] Predicted Price [12365824.0]\nReal price [5000000] Predicted Price [7223296.0]\nReal price [2200000] Predicted Price [3534848.0]\nReal price [3500000] Predicted Price [4485120.0]\nReal price [3000000] Predicted Price [3534848.0]\nReal price [3500000] Predicted Price [3801088.0]\nReal price [4500000] Predicted Price [4485120.0]\nReal price [1300000] Predicted Price [589824.0]\nReal price [3000000] Predicted Price [3801088.0]\nReal price [4500000] Predicted Price [8583168.0]\nReal price [4500000] Predicted Price [3801088.0]\nReal price [2500000] Predicted Price [3801088.0]\nReal price [1700000] Predicted Price [-1998848.0]\nReal price [5500000] Predicted Price [4941824.0]\nReal price [4000000] Predicted Price [3866624.0]\nReal price [7000000] Predicted Price [12986368.0]\nReal price [2000000] Predicted Price [1.221332017678683e+19]\nReal price [6000000] Predicted Price [12304384.0]\nReal price [1800000] Predicted Price [1576960.0]\nReal price [8000000] Predicted Price [12136448.0]\nReal price [4000000] Predicted Price [7057408.0]\nReal price [6000000] Predicted Price [4485120.0]\nReal price [10000000] Predicted Price [5984256.0]\nReal price [4000000] Predicted Price [6666240.0]\nReal price [3000000] Predicted Price [3801088.0]\nReal price [12000000] Predicted Price [7389184.0]\nReal price [10000000] Predicted Price [7223296.0]\nReal price [6000000] Predicted Price [7223296.0]\nReal price [10000000] Predicted Price [15556608.0]\nReal price [4000000] Predicted Price [5879808.0]\nReal price [3500000] Predicted Price [4485120.0]\nReal price [10000000] Predicted Price [12136448.0]\nReal price [1800000] Predicted Price [4444160.0]\nReal price [5500000] Predicted Price [15556608.0]\nReal price [20000000] Predicted Price [12304384.0]\nReal price [3000000] Predicted Price [3801088.0]\nReal price [4500000] Predicted Price [4651008.0]\nReal price [15000000] Predicted Price [12304384.0]\nReal price [3300000] Predicted Price [3801088.0]\nReal price [9000000] Predicted Price [12304384.0]\nReal price [3000000] Predicted Price [3700736.0]\nReal price [16000000] Predicted Price [12304384.0]\nReal price [3500000] Predicted Price [7057408.0]\nReal price [4000000] Predicted Price [7223296.0]\nReal price [2500000] Predicted Price [3637248.0]\nReal price [2500000] Predicted Price [3700736.0]\nReal price [15000000] Predicted Price [7223296.0]\nReal price [4000000] Predicted Price [4485120.0]\nReal price [1500000] Predicted Price [2041856.0]\nReal price [3500000] Predicted Price [4485120.0]\nReal price [900000] Predicted Price [552960.0]\nReal price [6000000] Predicted Price [7962624.0]\nReal price [2400000] Predicted Price [4319232.0]\nReal price [4000000] Predicted Price [9402368.0]\nReal price [2200000] Predicted Price [3534848.0]\nReal price [4500000] Predicted Price [3801088.0]\nReal price [3500000] Predicted Price [3801088.0]\nReal price [12000000] Predicted Price [11319296.0]\nReal price [3000000] Predicted Price [6832128.0]\nReal price [9000000] Predicted Price [11319296.0]\nReal price [800000] Predicted Price [1310720.0]\nReal price [3500000] Predicted Price [3801088.0]\nReal price [3000000] Predicted Price [4485120.0]\nReal price [9000000] Predicted Price [7223296.0]\nReal price [4000000] Predicted Price [7057408.0]\nReal price [15000000] Predicted Price [12304384.0]\nReal price [15000000] Predicted Price [8914944.0]\nReal price [3500000] Predicted Price [4999168.0]\nReal price [3000000] Predicted Price [3801088.0]\nReal price [3000000] Predicted Price [3801088.0]\nReal price [2800000] Predicted Price [1519616.0]\nReal price [4500000] Predicted Price [3801088.0]\nReal price [1500000] Predicted Price [3637248.0]\nReal price [3500000] Predicted Price [3637248.0]\nReal price [3500000] Predicted Price [4485120.0]\nReal price [47000000] Predicted Price [3801088.0]\nReal price [1500000] Predicted Price [3637248.0]\nReal price [4000000] Predicted Price [7057408.0]\nReal price [13000000] Predicted Price [12304384.0]\nReal price [3500000] Predicted Price [7223296.0]\nReal price [4000000] Predicted Price [7223296.0]\nReal price [3500000] Predicted Price [4485120.0]\nReal price [11000000] Predicted Price [11153408.0]\nReal price [1500000] Predicted Price [2260992.0]\nReal price [17000000] Predicted Price [12304384.0]\nReal price [1500000] Predicted Price [3637248.0]\nReal price [90000] Predicted Price [7901184.0]\nReal price [3000000] Predicted Price [3801088.0]\nReal price [5500000] Predicted Price [8749056.0]\nReal price [4500000] Predicted Price [7057408.0]\nReal price [4500000] Predicted Price [3801088.0]\nReal price [12000000] Predicted Price [7223296.0]\nReal price [6000000] Predicted Price [6666240.0]\nReal price [2500000] Predicted Price [3700736.0]\nReal price [5200000]Predicted Price [4816896.0]\nReal price [4200000] Predicted Price [3801088.0]\nReal price [3800000] Predicted Price [7057408.0]\nReal price [4000000] Predicted Price [3801088.0]\nReal price [3800000] Predicted Price [4485120.0]\nReal price [2500000] Predicted Price [4485120.0]\nReal price [5500000] Predicted Price [1687552.0]\nReal price [5000000] Predicted Price [7223296.0]\nReal price [3500000] Predicted Price [4485120.0]\nReal price [3500000] Predicted Price [4485120.0]\nReal price [4000000] Predicted Price [7901184.0]\nReal price [3500000] Predicted Price [3637248.0]\nReal price [7000000] Predicted Price [8583168.0]\nReal price [19000000] Predicted Price [12531712.0]\nReal price [3500000] Predicted Price [4485120.0]\nReal price [4000000] Predicted Price [7796736.0]\nReal price [700000] Predicted Price [421888.0]\nReal price [3800000] Predicted Price [7057408.0]\nReal price [2300000] Predicted Price [3700736.0]\nReal price [7500000] Predicted Price [12136448.0]\nReal price [3000000] Predicted Price [3801088.0]\nReal price [6500000] Predicted Price [3801088.0]\nReal price [3200000] Predicted Price [3801088.0]\nReal price [2500000] Predicted Price [3637248.0]\nReal price [3000000] Predicted Price [3801088.0]\nReal price [10000000] Predicted Price [1355776.0]\nReal price [150000] Predicted Price [-2541568.0]\nReal price [3500000] Predicted Price [3801088.0]\nReal price [7000000] Predicted Price [7057408.0]\nReal price [10000000] Predicted Price [12304384.0]\nReal price [3000000] Predicted Price [3801088.0]\nReal price [2500000] Predicted Price [4485120.0]\nReal price [4200000] Predicted Price [3801088.0]\nReal price [20000000] Predicted Price [7901184.0]\nReal price [5000000] Predicted Price [4485120.0]\nReal price [10000000] Predicted Price [15556608.0]\nReal price [15000000] Predicted Price [12304384.0]\nReal price [4000000] Predicted Price [4485120.0]\nReal price [12500000] Predicted Price [12986368.0]\nReal price [180000] Predicted Price [-2541568.0]\nReal price [3000000] Predicted Price [3801088.0]\nReal price [700000] Predicted Price [3700736.0]\nReal price [4000000] Predicted Price [7057408.0]\nReal price [3500000] Predicted Price [27852800.0]\nReal price [3500000] Predicted Price [4485120.0]\nReal price [4500000] Predicted Price [7223296.0]\nReal price [48000000] Predicted Price [4485120.0]\nReal price [6000000] Predicted Price [7057408.0]\nReal price [6000000] Predicted Price [3801088.0]\nReal price [12000000] Predicted Price [12365824.0]\nReal price [16000000] Predicted Price [12136448.0]\nReal price [1500000] Predicted Price [3637248.0]\nReal price [3500000] Predicted Price [4485120.0]\nReal price [3500000] Predicted Price [3801088.0]\nReal price [7000000] Predicted Price [5984256.0]\nReal price [5000000] Predicted Price [7223296.0]\nReal price [4000000] Predicted Price [3700736.0]\nReal price [4500000] Predicted Price [4775936.0]\nReal price [2800000] Predicted Price [2207744.0]\nReal price [22000000] Predicted Price [12531712.0]\nReal price [4000000] Predicted Price [7901184.0]\nReal price [3000000] Predicted Price [3801088.0]\nReal price [17500000] Predicted Price [12304384.0]\nReal price [10000000] Predicted Price [12136448.0]\nReal price [8000000] Predicted Price [12986368.0]\nReal price [3000000] Predicted Price [3801088.0]\nReal price [2000000] Predicted Price [3534848.0]\nReal price [45000000] Predicted Price [4319232.0]\nReal price [3200000] Predicted Price [3866624.0]\nReal price [650000] Predicted Price [1310720.0]\nReal price [15000000] Predicted Price [11153408.0]\nReal price [3500000] Predicted Price [4485120.0]\nReal price [4000000] Predicted Price [7901184.0]\nReal price [4000000] Predicted Price [4319232.0]\nReal price [4000000] Predicted Price [3866624.0]\nReal price [4500000] Predicted Price [3801088.0]\nReal price [11000000] Predicted Price [12986368.0]\nReal price [10000000] Predicted Price [12304384.0]\nReal price [6000000] Predicted Price [4651008.0]\nReal price [3800000] Predicted Price [7057408.0]\nReal price [3200000] Predicted Price [4485120.0]\nReal price [40000000] Predicted Price [4485120.0]\nReal price [5000000] Predicted Price [4485120.0]\nReal price [4500000] Predicted Price [7057408.0]\nReal price [5500000] Predicted Price [4651008.0]\nReal price [3500000] Predicted Price [3637248.0]\nReal price [2500000] Predicted Price [4319232.0]\nReal price [9000000] Predicted Price [12304384.0]\nReal price [4000000] Predicted Price [4485120.0]\nReal price [7000000] Predicted Price [12365824.0]\nReal price [6000000] Predicted Price [4319232.0]\nReal price [3000000] Predicted Price [4319232.0]\nReal price [6000000] Predicted Price [7223296.0]\nReal price [1000000] Predicted Price [1560576.0]\nReal price [6000000] Predicted Price [4485120.0]\nReal price [110000000] Predicted Price [9402368.0]\nReal price [6000000] Predicted Price [3801088.0]\nReal price [3000000] Predicted Price [3801088.0]\nReal price [3200000] Predicted Price [3801088.0]\nReal price [12000000] Predicted Price [12136448.0]\nReal price [5000000] Predicted Price [3969024.0]\nReal price [3000000] Predicted Price [3801088.0]\nReal price [2000000] Predicted Price [3637248.0]\nReal price [20000000] Predicted Price [8914944.0]\nReal price [17000000] Predicted Price [13152256.0]\nReal price [8000000] Predicted Price [12199936.0]\nReal price [3000000] Predicted Price [3801088.0]\nReal price [3000000] Predicted Price [7223296.0]\nReal price [9000000] Predicted Price [7223296.0]\nReal price [4500000] Predicted Price [7057408.0]\nReal price [3000000] Predicted Price [7057408.0]\nReal price [3500000] Predicted Price [3866624.0]\nReal price [5500000] Predicted Price [6666240.0]\nReal price [700000] Predicted Price [3700736.0]\nReal price [600000] Predicted Price [2062336.0]\nReal price [3300000] Predicted Price [4485120.0]\nReal price [3000000] Predicted Price [3801088.0]\nReal price [16000000] Predicted Price [12136448.0]\nReal price [3000000] Predicted Price [3801088.0]\nReal price [4000000] Predicted Price [3801088.0]\nReal price [2500000] Predicted Price [3801088.0]\nReal price [3000000] Predicted Price [28018688.0]\nReal price [4500000] Predicted Price [7057408.0]\nReal price [3500000] Predicted Price [7223296.0]\nReal price [5000000] Predicted Price [7901184.0]\nReal price [4000000] Predicted Price [7057408.0]\nReal price [1800000] Predicted Price [1576960.0]\nReal price [4500000] Predicted Price [7223296.0]\nReal price [4000000] Predicted Price [4485120.0]\nReal price [4000000] Predicted Price [3801088.0]\nReal price [1500000] Predicted Price [4485120.0]\nReal price [3000000] Predicted Price [3801088.0]\nReal price [3500000] Predicted Price [7057408.0]\nReal price [3500000] Predicted Price [7223296.0]\nReal price [4500000] Predicted Price [7223296.0]\nReal price [13000000] Predicted Price [9402368.0]\nReal price [12000000] Predicted Price [12304384.0]\nReal price [3500000] Predicted Price [4485120.0]\nReal price [3500000] Predicted Price [4485120.0]\nReal price [3500000] Predicted Price [3801088.0]\nReal price [5000000] Predicted Price [3801088.0]\nReal price [3000000] Predicted Price [3637248.0]\nReal price [3000000] Predicted Price [3801088.0]\nReal price [4000000] Predicted Price [6594560.0]\nReal price [6500000] Predicted Price [4032512.0]\nReal price [8000000] Predicted Price [7389184.0]\nReal price [1900000] Predicted Price [2260992.0]\nReal price [5500000] Predicted Price [7223296.0]\nReal price [3000000] Predicted Price [7223296.0]\nReal price [5000000] Predicted Price [4816896.0]\nReal price [1500000] Predicted Price [1476608.0]\nReal price [3000000] Predicted Price [4485120.0]\nReal price [3500000] Predicted Price [3700736.0]\nReal price [4500000] Predicted Price [3801088.0]\nReal price [1600000] Predicted Price [3700736.0]\nReal price [700000] Predicted Price [1.4011346373194043e+19]\nReal price [3500000] Predicted Price [3637248.0]\nReal price [3700000] Predicted Price [4485120.0]\nReal price [3000000] Predicted Price [3801088.0]\nReal price [1500000] Predicted Price [3534848.0]\nReal price [11000000] Predicted Price [12468224.0]\nReal price [600000] Predicted Price [1144832.0]\nReal price [3000000] Predicted Price [3801088.0]\nReal price [3000000] Predicted Price [3801088.0]\nReal price [2800000] Predicted Price [3801088.0]\nReal price [2300000] Predicted Price [2392064.0]\nReal price [7500000] Predicted Price [7223296.0]\nReal price [8000000] Predicted Price [12986368.0]\nReal price [3000000] Predicted Price [3801088.0]\nReal price [10000000] Predicted Price [12304384.0]\nReal price [3000000] Predicted Price [6666240.0]\nReal price [1500000] Predicted Price [1.2847068445454746e+19]\nReal price [10000000] Predicted Price [12304384.0]\nReal price [1800000] Predicted Price [3637248.0]\nReal price [4000000] Predicted Price [3866624.0]\nReal price [1000000] Predicted Price [718848.0]\nReal price [3000000] Predicted Price [3801088.0]\nReal price [3600000] Predicted Price [3801088.0]\nReal price [8500000] Predicted Price [13152256.0]\nReal price [3500000] Predicted Price [4485120.0]\nReal price [1400000] Predicted Price [1476608.0]\nReal price [3000000] Predicted Price [4485120.0]\nReal price [4000000] Predicted Price [3637248.0]\nReal price [4000000] Predicted Price [4485120.0]\nReal price [4000000] Predicted Price [4485120.0]\nReal price [7500000] Predicted Price [7223296.0]\nReal price [3500000] Predicted Price [3866624.0]\nReal price [5000000] Predicted Price [8065024.0]\nReal price [2500000] Predicted Price [4833280.0]\nReal price [3500000] Predicted Price [4485120.0]\nReal price [3500000] Predicted Price [6891520.0]\nReal price [3500000] Predicted Price [4485120.0]\nReal price [2000000] Predicted Price [4485120.0]\nReal price [10000000] Predicted Price [12986368.0]\nReal price [7000000] Predicted Price [12304384.0]\nReal price [6500000] Predicted Price [12304384.0]\nReal price [3500000] Predicted Price [4485120.0]\nReal price [6500000] Predicted Price [12986368.0]\nReal price [1000000] Predicted Price [552960.0]\nReal price [3500000] Predicted Price [3969024.0]\nReal price [5000000] Predicted Price [7223296.0]\nReal price [3500000] Predicted Price [4485120.0]\nReal price [3800000] Predicted Price [7057408.0]\nReal price [4000000] Predicted Price [12304384.0]\nReal price [4000000] Predicted Price [4319232.0]\nReal price [6000000] Predicted Price [3801088.0]\nReal price [3500000] Predicted Price [3801088.0]\nReal price [3500000] Predicted Price [6666240.0]\nReal price [5500000] Predicted Price [3637248.0]\nReal price [1700000] Predicted Price [2260992.0]\nReal price [1800000] Predicted Price [1413120.0]\nReal price [7000000] Predicted Price [12136448.0]\nReal price [2500000] Predicted Price [5093376.0]\nReal price [4500000] Predicted Price [7223296.0]\nReal price [1000000] Predicted Price [4667392.0]\nReal price [5000000] Predicted Price [4816896.0]\nReal price [20000000] Predicted Price [8065024.0]\nReal price [8500000] Predicted Price [12986368.0]\nReal price [2500000] Predicted Price [3637248.0]\nReal price [5000000] Predicted Price [8583168.0]\nReal price [8000000] Predicted Price [7223296.0]\nReal price [82000000] Predicted Price [7223296.0]\nReal price [1000000] Predicted Price [718848.0]\nReal price [5000000] Predicted Price [3801088.0]\nReal price [2500000] Predicted Price [3801088.0]\nReal price [6000000] Predicted Price [7057408.0]\nReal price [6500000] Predicted Price [7223296.0]\nReal price [5000000] Predicted Price [7901184.0]\nReal price [3500000] Predicted Price [4485120.0]\nReal price [2000000] Predicted Price [1875968.0]\nReal price [3000000] Predicted Price [3637248.0]\nReal price [3000000] Predicted Price [3801088.0]\nReal price [4500000] Predicted Price [6211584.0]\nReal price [2500000] Predicted Price [3637248.0]\nReal price [6000000] Predicted Price [3969024.0]\nReal price [7000000] Predicted Price [7901184.0]\nReal price [9000000] Predicted Price [11608064.0]\nReal price [4000000] Predicted Price [3637248.0]\nReal price [4500000] Predicted Price [4485120.0]\nReal price [1600000] Predicted Price [3637248.0]\nReal price [2700000] Predicted Price [3801088.0]\nReal price [3500000] Predicted Price [7223296.0]\nReal price [16000000] Predicted Price [12199936.0]\nReal price [8000000] Predicted Price [12468224.0]\nReal price [2800000] Predicted Price [-1890304.0]\nReal price [3500000] Predicted Price [4485120.0]\nReal price [1500000] Predicted Price [3637248.0]\nReal price [5000000] Predicted Price [4485120.0]\nReal price [3000000] Predicted Price [3801088.0]\n"
    }
   ],
   "source": [
    "for i in range(len(ypred)):\n",
    "    print('Real price', [y_test[i]], 'Predicted Price', [ypred[i]])"
   ]
  },
  {
   "cell_type": "code",
   "execution_count": 42,
   "metadata": {},
   "outputs": [
    {
     "output_type": "execute_result",
     "data": {
      "text/plain": "0.1025115639161417"
     },
     "metadata": {},
     "execution_count": 42
    }
   ],
   "source": [
    "model.score()"
   ]
  },
  {
   "cell_type": "code",
   "execution_count": 43,
   "metadata": {},
   "outputs": [
    {
     "output_type": "execute_result",
     "data": {
      "text/plain": "-7.451975276138748e+21"
     },
     "metadata": {},
     "execution_count": 43
    }
   ],
   "source": [
    "from sklearn.metrics import r2_score\n",
    "r2_score(y_test, ypred)"
   ]
  },
  {
   "cell_type": "markdown",
   "metadata": {},
   "source": [
    "<p> Employing Decision tree regression model </p>"
   ]
  },
  {
   "cell_type": "code",
   "execution_count": 47,
   "metadata": {},
   "outputs": [],
   "source": [
    "from sklearn.tree import DecisionTreeRegressor\n",
    "dec = DecisionTreeRegressor(random_state=0)\n",
    "model2 = dec.fit(X_train, y_train)"
   ]
  },
  {
   "cell_type": "code",
   "execution_count": 48,
   "metadata": {},
   "outputs": [],
   "source": [
    "ypred2 = model2.predict(X_test)"
   ]
  },
  {
   "cell_type": "code",
   "execution_count": 49,
   "metadata": {},
   "outputs": [
    {
     "output_type": "execute_result",
     "data": {
      "text/plain": "0.22566940478280142"
     },
     "metadata": {},
     "execution_count": 49
    }
   ],
   "source": [
    "model2.score(X_train, y_train)"
   ]
  },
  {
   "cell_type": "code",
   "execution_count": 50,
   "metadata": {},
   "outputs": [
    {
     "output_type": "execute_result",
     "data": {
      "text/plain": "0.07711330154191243"
     },
     "metadata": {},
     "execution_count": 50
    }
   ],
   "source": [
    "r2_score(y_test, ypred2)"
   ]
  },
  {
   "cell_type": "code",
   "execution_count": null,
   "metadata": {},
   "outputs": [],
   "source": [
    "from sklearn.preprocessing import StandardScaler\n",
    "sc_y = StandardScaler()\n",
    "\n",
    "\n",
    "sc_x = StandardScaler()"
   ]
  },
  {
   "cell_type": "code",
   "execution_count": 51,
   "metadata": {},
   "outputs": [
    {
     "output_type": "execute_result",
     "data": {
      "text/plain": "(2026,)"
     },
     "metadata": {},
     "execution_count": 51
    }
   ],
   "source": []
  },
  {
   "cell_type": "code",
   "execution_count": 56,
   "metadata": {
    "tags": []
   },
   "outputs": [
    {
     "output_type": "stream",
     "name": "stdout",
     "text": "501 ['semi-detached duplex']\n760 ['terraced duplex']\n477 ['detached duplex']\n224 ['flat apartment']\n24 ['detached bungalow']\n34 ['semi-detached bungalow']\n1 ['block of']\n5 ['terraced bungalow']\n"
    }
   ],
   "source": [
    "for i in list(data['Type'].unique()):\n",
    "    curr = data[data['Type'] == i]\n",
    "    print(len(curr), [i])"
   ]
  },
  {
   "cell_type": "code",
   "execution_count": 57,
   "metadata": {},
   "outputs": [],
   "source": [
    "edi = data[data['Type'].str.contains('detached bungalow') | data['Type'].str.contains('semi-detached bungalow') | data['Type'].str.contains('block of') | data['Type'].str.contains('terraced bungalow')]"
   ]
  },
  {
   "cell_type": "code",
   "execution_count": 59,
   "metadata": {},
   "outputs": [],
   "source": [
    "data.drop(index=edi.index, inplace=True)"
   ]
  },
  {
   "cell_type": "code",
   "execution_count": 60,
   "metadata": {},
   "outputs": [],
   "source": [
    "d_trr = data[data['Type']=='terraced duplex']"
   ]
  },
  {
   "cell_type": "code",
   "execution_count": 65,
   "metadata": {},
   "outputs": [],
   "source": [
    "d_trr.drop(columns='Type', inplace=True)"
   ]
  },
  {
   "cell_type": "code",
   "execution_count": 68,
   "metadata": {},
   "outputs": [],
   "source": [
    "X1 = d_trr.iloc[:, : -1].values\n",
    "y1 = d_trr.iloc[:, -1].values"
   ]
  },
  {
   "cell_type": "code",
   "execution_count": 72,
   "metadata": {},
   "outputs": [],
   "source": [
    "ct = ColumnTransformer(transformers=[('encoder', OneHotEncoder(sparse=False), [0])], remainder='passthrough')\n",
    "X1 = np.array(ct.fit_transform(X1))"
   ]
  },
  {
   "cell_type": "code",
   "execution_count": 77,
   "metadata": {},
   "outputs": [],
   "source": [
    "X_train1, X_test1, y_train1, y_test1 = train_test_split(X1, y1, test_size= 0.3, random_state=0)"
   ]
  },
  {
   "cell_type": "code",
   "execution_count": 78,
   "metadata": {},
   "outputs": [],
   "source": [
    "model_trr = reg.fit(X_train1, y_train1)"
   ]
  },
  {
   "cell_type": "code",
   "execution_count": 79,
   "metadata": {},
   "outputs": [],
   "source": [
    "ypred_trr = model_trr.predict(X_test1)"
   ]
  },
  {
   "cell_type": "code",
   "execution_count": 80,
   "metadata": {},
   "outputs": [
    {
     "output_type": "execute_result",
     "data": {
      "text/plain": "0.17920116003645403"
     },
     "metadata": {},
     "execution_count": 80
    }
   ],
   "source": [
    "model_trr.score(X_train1, y_train1)"
   ]
  },
  {
   "cell_type": "code",
   "execution_count": 81,
   "metadata": {},
   "outputs": [],
   "source": [
    "model_trr_dec = dec.fit(X_train1, y_train1)"
   ]
  },
  {
   "cell_type": "code",
   "execution_count": 82,
   "metadata": {},
   "outputs": [
    {
     "output_type": "execute_result",
     "data": {
      "text/plain": "0.19266046076141363"
     },
     "metadata": {},
     "execution_count": 82
    }
   ],
   "source": [
    "model_trr_dec.score(X_train1, y_train1)"
   ]
  },
  {
   "cell_type": "code",
   "execution_count": null,
   "metadata": {},
   "outputs": [],
   "source": []
  }
 ],
 "metadata": {
  "language_info": {
   "codemirror_mode": {
    "name": "ipython",
    "version": 3
   },
   "file_extension": ".py",
   "mimetype": "text/x-python",
   "name": "python",
   "nbconvert_exporter": "python",
   "pygments_lexer": "ipython3",
   "version": "3.8.1-final"
  },
  "orig_nbformat": 2,
  "kernelspec": {
   "name": "python38164bitddb66de964dc40ce8827062f9ba68cf6",
   "display_name": "Python 3.8.1 64-bit"
  }
 },
 "nbformat": 4,
 "nbformat_minor": 2
}